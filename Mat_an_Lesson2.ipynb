{
 "cells": [
  {
   "cell_type": "markdown",
   "metadata": {},
   "source": [
    "### Введение в математический анализ\n",
    "__Урок 2. Видеоурок “Множество. Последовательность”__"
   ]
  },
  {
   "cell_type": "markdown",
   "metadata": {},
   "source": [
    "__Задача 1.__\n",
    "\n",
    "Как относятся друг к другу множество и последовательность? (в ответе использовать слова типа: часть, целое, общее, частное, родитель, дочерний субъект и т.д.)"
   ]
  },
  {
   "cell_type": "markdown",
   "metadata": {},
   "source": [
    "Ответ: Так как последовательность является одним из видов множеств, последовательность это дочерний субъект множества(родителя)"
   ]
  },
  {
   "cell_type": "code",
   "execution_count": null,
   "metadata": {},
   "outputs": [],
   "source": []
  },
  {
   "cell_type": "code",
   "execution_count": null,
   "metadata": {},
   "outputs": [],
   "source": []
  },
  {
   "cell_type": "markdown",
   "metadata": {},
   "source": [
    "__Задача 2.__\n",
    "Прочитать высказывания математической логики, построить их отрицания и установить истинность."
   ]
  },
  {
   "cell_type": "markdown",
   "metadata": {},
   "source": [
    "$\\forall y \\in [0;1] : sgn(y) = 1$"
   ]
  },
  {
   "cell_type": "markdown",
   "metadata": {},
   "source": [
    "#### Сигнум от у = 1 для каждого у из множества (0:1)."
   ]
  },
  {
   "cell_type": "markdown",
   "metadata": {},
   "source": [
    "__Отрицание__  $\\exists y \\in [0;1] : sgn(y) \\neq 1$ "
   ]
  },
  {
   "cell_type": "markdown",
   "metadata": {},
   "source": [
    "__истинность__"
   ]
  },
  {
   "cell_type": "markdown",
   "metadata": {},
   "source": [
    "$\\forall n \\in \\mathbf{N} > 2 : \\exists x, y, z \\in \\mathbf{N} : x^n = y^n + z^n$"
   ]
  },
  {
   "cell_type": "markdown",
   "metadata": {},
   "source": [
    "__Существуют натуральные x, y, z для которых любой n - натуральное число больше двух, и x^n = y^n + z^n.__"
   ]
  },
  {
   "cell_type": "markdown",
   "metadata": {},
   "source": [
    "__Отрицание__  $\\exists n \\in \\mathbf{N} <= 2 : \\exists x, y, z \\in \\mathbf{N} : x^n \\neq y^n + z^n$"
   ]
  },
  {
   "cell_type": "markdown",
   "metadata": {},
   "source": [
    "__истинность__"
   ]
  },
  {
   "cell_type": "markdown",
   "metadata": {},
   "source": [
    "$\\forall x \\in \\mathbf{R}\\exists\\mathbf{X}\\in \\mathbf{R}: \\mathbf{X} > x$"
   ]
  },
  {
   "cell_type": "markdown",
   "metadata": {},
   "source": [
    "__Для любого рационального х существует рациональное множество Х так, что Х больше х.__"
   ]
  },
  {
   "cell_type": "markdown",
   "metadata": {},
   "source": [
    "__Отрицание__  $\\exists x \\in \\mathbf{R}\\exists\\mathbf{X}\\in \\mathbf{R}: \\mathbf{X} <= x$"
   ]
  },
  {
   "cell_type": "markdown",
   "metadata": {},
   "source": [
    "__истинность__"
   ]
  },
  {
   "cell_type": "markdown",
   "metadata": {},
   "source": [
    "$\\forall x \\in \\mathbf{C} \\nexists y\\in \\mathbf{C} : x > y||x < y$"
   ]
  },
  {
   "cell_type": "markdown",
   "metadata": {},
   "source": [
    "__Для любого комплексного х не существует комплексного у, так как x > y или x < y.__"
   ]
  },
  {
   "cell_type": "markdown",
   "metadata": {},
   "source": [
    "__Отрицание__  $\\exists x \\in \\mathbf{C} \\exists y\\in \\mathbf{C} : x <= y:x >= y$"
   ]
  },
  {
   "cell_type": "markdown",
   "metadata": {},
   "source": [
    "__истинность__"
   ]
  },
  {
   "cell_type": "markdown",
   "metadata": {},
   "source": [
    "$\\forall y \\in [0;\\frac{\\pi}{2}] \\exists \\varepsilon > 0 : sin(y) < sin(y + \\varepsilon)$"
   ]
  },
  {
   "cell_type": "markdown",
   "metadata": {},
   "source": [
    "__Существует погрешность больше нуля для любого у из множества (0: пи/2), где sin y < sin(y + погрешность)__"
   ]
  },
  {
   "cell_type": "markdown",
   "metadata": {},
   "source": [
    "__Отрицание__  $\\exists y \\in [0;\\frac{\\pi}{2}] \\exists \\varepsilon <= 0 : sin(y) >= sin(y + \\varepsilon)$"
   ]
  },
  {
   "cell_type": "markdown",
   "metadata": {},
   "source": [
    "__истинность__"
   ]
  },
  {
   "cell_type": "markdown",
   "metadata": {},
   "source": [
    "$\\forall y \\in [0;\\pi] \\exists \\varepsilon > 0 : cos(y) > cos(y + \\varepsilon)$"
   ]
  },
  {
   "cell_type": "markdown",
   "metadata": {},
   "source": [
    "__Существует эпсилон больше нуля для любого у из множества (0: пи), где cos y > cos(y + эпсилон)__"
   ]
  },
  {
   "cell_type": "markdown",
   "metadata": {},
   "source": [
    "__Отрицание__  $\\exists y \\in [0;\\pi] \\exists \\varepsilon <= 0 : cos(y) <= cos(y + \\varepsilon)$"
   ]
  },
  {
   "cell_type": "markdown",
   "metadata": {},
   "source": [
    "__истинность__"
   ]
  },
  {
   "cell_type": "markdown",
   "metadata": {},
   "source": [
    "$\\exists x : x \\notin \\{\\mathbf{N}\\mathbf{Z}\\mathbf{Q}\\mathbf{R}\\mathbf{C}\\}$"
   ]
  },
  {
   "cell_type": "markdown",
   "metadata": {},
   "source": [
    "__Существует х, которой не является ни натуральным,ни целым, ни рациональным, ни вещественным, ни комплексным.__"
   ]
  },
  {
   "cell_type": "markdown",
   "metadata": {},
   "source": [
    "__Отрицание__  $\\forall x : x \\in \\{\\mathbf{N}\\mathbf{Z}\\mathbf{Q}\\mathbf{R}\\mathbf{C}\\}$"
   ]
  },
  {
   "cell_type": "markdown",
   "metadata": {},
   "source": [
    "__истинность: не верно, гиперкомплексные__"
   ]
  },
  {
   "cell_type": "code",
   "execution_count": null,
   "metadata": {},
   "outputs": [],
   "source": []
  },
  {
   "cell_type": "markdown",
   "metadata": {},
   "source": [
    "### Тема 2 “Множество”\n",
    "\n",
    "__1. Даны три множества a,b и с. Необходимо выполнить все изученные виды бинарных операций над всеми комбинациями множеств.__"
   ]
  },
  {
   "cell_type": "code",
   "execution_count": 1,
   "metadata": {},
   "outputs": [],
   "source": [
    "import numpy as np"
   ]
  },
  {
   "cell_type": "code",
   "execution_count": 2,
   "metadata": {},
   "outputs": [
    {
     "name": "stdout",
     "output_type": "stream",
     "text": [
      "Множество a: {1, 3, 8, 14, 17, 18}\n",
      "Множество b: {4, 5, 6, 8, 9, 12, 15, 17, 19}\n",
      "Множество c: {5, 7, 8, 9, 14, 17, 18, 19}\n"
     ]
    }
   ],
   "source": [
    "a = set(np.random.randint(1, 20) for i in range(10))\n",
    "b = set(np.random.randint(1, 20) for i in range(10))\n",
    "c = set(np.random.randint(1, 20) for i in range(10))\n",
    "\n",
    "print(f'Множество a: {a}')\n",
    "print(f'Множество b: {b}')\n",
    "print(f'Множество c: {c}')"
   ]
  },
  {
   "cell_type": "code",
   "execution_count": 3,
   "metadata": {},
   "outputs": [
    {
     "name": "stdout",
     "output_type": "stream",
     "text": [
      "Объединение a, b и c: {1, 3, 4, 5, 6, 7, 8, 9, 12, 14, 15, 17, 18, 19}\n",
      "Пересечение a, b и c: {8, 17}\n",
      "Разность a и b: {1, 18, 3, 14}\n",
      "Разность a и b: {1, 3}\n",
      "Разность a и b: {4, 5, 6, 9, 12, 15, 19}\n",
      "Разность a и b: {4, 12, 6, 15}\n",
      "Симметрическая разность a и b: {1, 3, 4, 5, 6, 9, 12, 14, 15, 18, 19}\n",
      "Симметрическая разность a и c: {1, 3, 5, 7, 9, 19}\n",
      "Симметрическая разность b и c: {4, 6, 7, 12, 14, 15, 18}\n"
     ]
    }
   ],
   "source": [
    "print(f'Объединение a, b и c: {a | b | c}')\n",
    "print(f'Пересечение a, b и c: {a & b & c}')\n",
    "print(f'Разность a и b: {a - b}')\n",
    "print(f'Разность a и b: {a - c}')\n",
    "print(f'Разность a и b: {b - a}')\n",
    "print(f'Разность a и b: {b - c}')\n",
    "print(f'Симметрическая разность a и b: {a ^ b}')\n",
    "print(f'Симметрическая разность a и c: {a ^ c}')\n",
    "print(f'Симметрическая разность b и c: {b ^ c}')"
   ]
  },
  {
   "cell_type": "code",
   "execution_count": null,
   "metadata": {},
   "outputs": [],
   "source": []
  },
  {
   "cell_type": "markdown",
   "metadata": {},
   "source": [
    "### Тема 3 “Последовательность”\n",
    "\n",
    "__1. Даны 4 последовательности. Необходимо:__"
   ]
  },
  {
   "cell_type": "markdown",
   "metadata": {},
   "source": [
    "    a) исследовать их на монотонность;\n",
    "    b) исследовать на ограниченность;\n",
    "    c) найти пятый по счету член."
   ]
  },
  {
   "cell_type": "code",
   "execution_count": 4,
   "metadata": {},
   "outputs": [],
   "source": [
    "import math"
   ]
  },
  {
   "cell_type": "code",
   "execution_count": 5,
   "metadata": {},
   "outputs": [],
   "source": [
    "def monotonost(sequence):\n",
    "    for i in range(1, len(sequence)):\n",
    "        if sequence[i] > sequence[i-1]:\n",
    "            return 'Последовательность монотонно возрастает'\n",
    "        elif sequence[i] < sequence[i-1]:\n",
    "            return 'Последовательность монотонно убывает'\n",
    "        else:\n",
    "            return 'Последовательность не изменяетя'"
   ]
  },
  {
   "cell_type": "code",
   "execution_count": 6,
   "metadata": {},
   "outputs": [],
   "source": [
    "def posled_a(n):\n",
    "    return 2 ** n - n\n",
    "def posled_b(n):\n",
    "    return 1 / (n - 1)\n",
    "def posled_c(n):\n",
    "    return -1 ** n + math.sqrt(2 * n)\n",
    "def posled_d(n):\n",
    "    return (-1) ** (2 * n) + 1 / (n ** 2)\n",
    "\n",
    "ns = list(range(2, 12, 1))\n"
   ]
  },
  {
   "cell_type": "code",
   "execution_count": 7,
   "metadata": {},
   "outputs": [
    {
     "name": "stdout",
     "output_type": "stream",
     "text": [
      "Последовательность монотонно возрастает\n",
      "Перывые 10 элементов последовательности 2 ^ n - n: \n",
      "[2, 5, 12, 27, 58, 121, 248, 503, 1014, 2037]\n",
      "Пятый по счету член последовательности 2 ^ n - n: 58\n"
     ]
    }
   ],
   "source": [
    "# a: 2 ** n - n\n",
    "\n",
    "elements = list(map(posled_a, ns))\n",
    "\n",
    "print(monotonost(elements))\n",
    "print(f'Перывые 10 элементов последовательности 2 ^ n - n: \\n{elements}')\n",
    "print(f'Пятый по счету член последовательности 2 ^ n - n: {posled_a(ns[4])}')"
   ]
  },
  {
   "cell_type": "code",
   "execution_count": null,
   "metadata": {},
   "outputs": [],
   "source": []
  },
  {
   "cell_type": "code",
   "execution_count": 8,
   "metadata": {},
   "outputs": [
    {
     "name": "stdout",
     "output_type": "stream",
     "text": [
      "Последовательность монотонно убывает\n",
      "Перывые 10 элементов последовательности 1 / (n - 1): \n",
      "[1.0, 0.5, 0.3333333333333333, 0.25, 0.2, 0.16666666666666666, 0.14285714285714285, 0.125, 0.1111111111111111, 0.1]\n",
      "Пятый по счету член последовательности 1 / (n - 1): 0.2\n"
     ]
    }
   ],
   "source": [
    "# b: 1 / (n - 1)\n",
    "\n",
    "elements = list(map(posled_b, ns))\n",
    "\n",
    "print(monotonost(elements))\n",
    "print(f'Перывые 10 элементов последовательности 1 / (n - 1): \\n{elements}')\n",
    "print(f'Пятый по счету член последовательности 1 / (n - 1): {posled_b(ns[4])}')"
   ]
  },
  {
   "cell_type": "code",
   "execution_count": 9,
   "metadata": {},
   "outputs": [
    {
     "name": "stdout",
     "output_type": "stream",
     "text": [
      "Последовательность монотонно возрастает\n",
      "Перывые 10 элементов последовательности -1 ^ n + sqrt(2 * n): \n",
      "[1.0, 1.4494897427831779, 1.8284271247461903, 2.1622776601683795, 2.4641016151377544, 2.7416573867739413, 3.0, 3.2426406871192848, 3.4721359549995796, 3.6904157598234297]\n",
      "Пятый по счету член последовательности -1 ^ n + sqrt(2 * n): 2.4641016151377544\n"
     ]
    }
   ],
   "source": [
    "# c: -1 ** n + sqrt(2 * n)\n",
    "\n",
    "elements = list(map(posled_c, ns))\n",
    "\n",
    "print(monotonost(elements))\n",
    "print(f'Перывые 10 элементов последовательности -1 ^ n + sqrt(2 * n): \\n{elements}')\n",
    "print(f'Пятый по счету член последовательности -1 ^ n + sqrt(2 * n): {posled_c(ns[4])}')"
   ]
  },
  {
   "cell_type": "code",
   "execution_count": 10,
   "metadata": {},
   "outputs": [
    {
     "name": "stdout",
     "output_type": "stream",
     "text": [
      "Последовательность монотонно убывает\n",
      "Перывые 10 элементов последовательности (-1) ^ (2 * n) + 1 / (n ^ 2): \n",
      "[1.25, 1.1111111111111112, 1.0625, 1.04, 1.0277777777777777, 1.0204081632653061, 1.015625, 1.0123456790123457, 1.01, 1.0082644628099173]\n",
      "Пятый по счету член последовательности (-1) ^ (2 * n) + 1 / (n ^ 2): 1.0277777777777777\n"
     ]
    }
   ],
   "source": [
    "# d: (-1) ** (2 * n) + 1 / (n ** 2)\n",
    "\n",
    "elements = list(map(posled_d, ns))\n",
    "\n",
    "print(monotonost(elements))\n",
    "print(f'Перывые 10 элементов последовательности (-1) ^ (2 * n) + 1 / (n ^ 2): \\n{elements}')\n",
    "print(f'Пятый по счету член последовательности (-1) ^ (2 * n) + 1 / (n ^ 2): {posled_d(ns[4])}')"
   ]
  },
  {
   "cell_type": "markdown",
   "metadata": {},
   "source": [
    "__2. a1 = 128, a(n+1) - a(n) = 6, найти 12-й член заданной неявно последовательности__"
   ]
  },
  {
   "cell_type": "code",
   "execution_count": 11,
   "metadata": {},
   "outputs": [
    {
     "name": "stdout",
     "output_type": "stream",
     "text": [
      "12-й член данной последовательности= 194\n"
     ]
    }
   ],
   "source": [
    "# первый элемент последовательности = 128,\n",
    "# разница между близлежащими элементами = 6.\n",
    "# Последовательность монотонно возрастает\n",
    "\n",
    "a_12 = 128\n",
    "for _ in range(11):\n",
    "    a_12 += 6\n",
    "    \n",
    "print(f'12-й член данной последовательности= {a_12}')"
   ]
  },
  {
   "cell_type": "code",
   "execution_count": null,
   "metadata": {},
   "outputs": [],
   "source": []
  },
  {
   "cell_type": "code",
   "execution_count": null,
   "metadata": {},
   "outputs": [],
   "source": []
  },
  {
   "cell_type": "code",
   "execution_count": null,
   "metadata": {},
   "outputs": [],
   "source": []
  },
  {
   "cell_type": "code",
   "execution_count": null,
   "metadata": {},
   "outputs": [],
   "source": []
  },
  {
   "cell_type": "code",
   "execution_count": null,
   "metadata": {},
   "outputs": [],
   "source": []
  },
  {
   "cell_type": "code",
   "execution_count": null,
   "metadata": {},
   "outputs": [],
   "source": []
  },
  {
   "cell_type": "code",
   "execution_count": null,
   "metadata": {},
   "outputs": [],
   "source": []
  },
  {
   "cell_type": "code",
   "execution_count": null,
   "metadata": {},
   "outputs": [],
   "source": []
  }
 ],
 "metadata": {
  "kernelspec": {
   "display_name": "Python 3",
   "language": "python",
   "name": "python3"
  },
  "language_info": {
   "codemirror_mode": {
    "name": "ipython",
    "version": 3
   },
   "file_extension": ".py",
   "mimetype": "text/x-python",
   "name": "python",
   "nbconvert_exporter": "python",
   "pygments_lexer": "ipython3",
   "version": "3.7.3"
  }
 },
 "nbformat": 4,
 "nbformat_minor": 2
}
