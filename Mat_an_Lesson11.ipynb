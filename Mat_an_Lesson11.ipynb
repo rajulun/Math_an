{
 "cells": [
  {
   "cell_type": "markdown",
   "metadata": {},
   "source": [
    "### Ряды. Интегралы.\n",
    "\n",
    "#### Вычислить интегралы.\n",
    "\n",
    "#### Задание 1.\n"
   ]
  },
  {
   "cell_type": "markdown",
   "metadata": {},
   "source": [
    "$$\\int \\frac{2x + 3}{(x -2)(x + 5)} dx$$"
   ]
  },
  {
   "cell_type": "markdown",
   "metadata": {},
   "source": [
    "$t = (x - 2)(x + 5)$<br>\n",
    "$dt = (2x + 3)dx$<br>\n",
    "$\\int \\frac{1}{t}dt$<br>\n",
    "\n",
    "$$\\int \\frac{2x + 3}{(x -2)(x + 5)} dx = \\ln((x-2)(x+5)) + C$$"
   ]
  },
  {
   "cell_type": "code",
   "execution_count": null,
   "metadata": {},
   "outputs": [],
   "source": []
  },
  {
   "cell_type": "markdown",
   "metadata": {},
   "source": [
    "#### Задание 2."
   ]
  },
  {
   "cell_type": "markdown",
   "metadata": {},
   "source": [
    "$$\\int e^{2x} \\cos 3x\\ dx =$$"
   ]
  },
  {
   "cell_type": "markdown",
   "metadata": {},
   "source": [
    "$$\\cos(3) \\int e^{2x} x\\ dx =$$\n",
    "\n",
    "$$\\frac{1}{2}e^{2x}x\\cos(3)- \\frac{\\cos(3)}{2} \\int e^{2x} \\ dx =$$\n",
    "\n",
    "$$\\frac{1}{2}e^{2x}x\\cos(3)- \\frac{\\cos(3)}{4} \\int e^{u} \\ du =$$\n",
    "\n",
    "$$\\frac{1}{2}e^{2x}x\\cos(3)- \\frac{1}{4} e^{u} \\cos(3) +C =$$\n",
    "\n",
    "$$\\frac{1}{2}e^{2x}x\\cos(3)- \\frac{1}{4} e^{2x} \\cos(3) +C$$"
   ]
  },
  {
   "cell_type": "code",
   "execution_count": null,
   "metadata": {},
   "outputs": [],
   "source": []
  },
  {
   "cell_type": "code",
   "execution_count": null,
   "metadata": {},
   "outputs": [],
   "source": []
  },
  {
   "cell_type": "markdown",
   "metadata": {},
   "source": [
    "#### Задание 3."
   ]
  },
  {
   "cell_type": "markdown",
   "metadata": {},
   "source": [
    "$$\\int\\limits_{0}^{\\ln 2} xe^{-x} dx = $$"
   ]
  },
  {
   "cell_type": "markdown",
   "metadata": {},
   "source": [
    "$$= -e^{-x} x + \\int e^{-x} dx           $$  \n",
    "\n",
    "$$= -\\frac{ln 2}{2}+ \\int\\limits_{0}^{\\ln 2} e^{-x} dx$$\n",
    "\n",
    "$$= -\\frac{ln 2}{2}- \\int\\limits_{0}^{-\\ln 2} e^{u} du$$\n",
    "\n",
    "$$= -\\frac{ln 2}{2}+ \\int\\limits_{-\\ln 2}^{0} e^{u} du$$\n",
    "\n",
    "$$= \\frac{1}{2} -\\frac{ln 2}{2}$$"
   ]
  },
  {
   "cell_type": "code",
   "execution_count": null,
   "metadata": {},
   "outputs": [],
   "source": []
  },
  {
   "cell_type": "markdown",
   "metadata": {},
   "source": [
    "#### Задание 4*. Разложить функцию $𝑦 = 𝑒^𝑥$ в ряд Маклорена, а также в ряд Фурье на отрезке $[−𝜋;𝜋]$. Построить график функции и разложения."
   ]
  },
  {
   "cell_type": "markdown",
   "metadata": {},
   "source": [
    "$e^x = 1 + \\frac{x}{1!}+ \\frac{x^2}{2!}+ \\frac{x^3}{3!}+...+ \\frac{x^n}{n!}+... \\sum\\limits_{n=1}^{\\infty} \\frac{x^n}{n!} < \\infty$"
   ]
  },
  {
   "cell_type": "code",
   "execution_count": null,
   "metadata": {},
   "outputs": [],
   "source": []
  },
  {
   "cell_type": "code",
   "execution_count": 10,
   "metadata": {},
   "outputs": [],
   "source": [
    "import numpy as np\n",
    "import matplotlib.pyplot as plt\n",
    "%matplotlib inline"
   ]
  },
  {
   "cell_type": "code",
   "execution_count": 18,
   "metadata": {},
   "outputs": [],
   "source": [
    "def f(x):\n",
    "    return math.exp(x)"
   ]
  },
  {
   "cell_type": "code",
   "execution_count": 22,
   "metadata": {},
   "outputs": [
    {
     "data": {
      "image/png": "[encoded data removed]",
      "text/plain": [
       "<Figure size 432x288 with 1 Axes>"
      ]
     },
     "metadata": {
      "needs_background": "light"
     },
     "output_type": "display_data"
    }
   ],
   "source": [
    "x = np.linspace(-100, 100, 1000)\n",
    "y = np.array(list(map(f, x)))\n",
    "\n",
    "plt.plot(x, y, c='b', label=\"f(x) = e**x\")\n",
    "\n",
    "plt.title('График')\n",
    "plt.xlabel('Переменная x')\n",
    "plt.ylabel('Функция f(x)')\n",
    "#plt.legend(loc='lower right')\n",
    "plt.grid()\n",
    "plt.show()"
   ]
  },
  {
   "cell_type": "code",
   "execution_count": null,
   "metadata": {},
   "outputs": [],
   "source": []
  },
  {
   "cell_type": "code",
   "execution_count": null,
   "metadata": {},
   "outputs": [],
   "source": []
  }
 ],
 "metadata": {
  "kernelspec": {
   "display_name": "Python 3",
   "language": "python",
   "name": "python3"
  },
  "language_info": {
   "codemirror_mode": {
    "name": "ipython",
    "version": 3
   },
   "file_extension": ".py",
   "mimetype": "text/x-python",
   "name": "python",
   "nbconvert_exporter": "python",
   "pygments_lexer": "ipython3",
   "version": "3.7.3"
  }
 },
 "nbformat": 4,
 "nbformat_minor": 2
}
