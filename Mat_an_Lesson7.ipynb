{
 "cells": [
  {
   "cell_type": "markdown",
   "metadata": {},
   "source": [
    "### Производные функций одного переменного.\n",
    "__Урок 7__\n"
   ]
  },
  {
   "cell_type": "markdown",
   "metadata": {},
   "source": []
  },
  {
   "cell_type": "markdown",
   "metadata": {},
   "source": [
    "__Задание 1__"
   ]
  },
  {
   "cell_type": "markdown",
   "metadata": {},
   "source": [
    "$y = \\frac{1}{x}+\\frac{2}{x^2}-\\frac{5}{x^3}+\\sqrt{x}- {^3\\sqrt{x}}+\\frac{3}{\\sqrt {x}}$"
   ]
  },
  {
   "cell_type": "markdown",
   "metadata": {},
   "source": [
    "$y = x ^{-1} +2x^{-2} - 5^{-3}+ x^{\\frac{1}{2}}+ x^{\\frac{1}{3}}+ 3x^{-\\frac{1}{2}}$"
   ]
  },
  {
   "cell_type": "markdown",
   "metadata": {},
   "source": [
    "$y = -x ^{-2} - 4x^{-3} + 15^{-4}+ \\frac{1}{2} x^{-\\frac{1}{2}}+ \\frac{1}{3} x^{\\frac{2}{3}}+ -\\frac{3}{2}*x^{\\frac{1}{2}}$"
   ]
  },
  {
   "cell_type": "code",
   "execution_count": null,
   "metadata": {},
   "outputs": [],
   "source": []
  },
  {
   "cell_type": "code",
   "execution_count": null,
   "metadata": {},
   "outputs": [],
   "source": []
  },
  {
   "cell_type": "markdown",
   "metadata": {},
   "source": [
    "__Задание 2__"
   ]
  },
  {
   "cell_type": "markdown",
   "metadata": {},
   "source": [
    "$y = x * \\sqrt{1+x^2}$"
   ]
  },
  {
   "cell_type": "markdown",
   "metadata": {},
   "source": [
    "$(y = x * \\sqrt{1+x^2})' = (x)' * \\sqrt{1+x^2} + x * (\\sqrt{1+x^2})'=$\n",
    "\n",
    "$= \\sqrt{1+x^2} + x * \\frac{x}{\\sqrt{1+x^2}}$\n",
    "\n",
    "$(\\sqrt{1+x^2})' = \\frac{1}{2}*(1 + x^2)^{-\\frac{1}{2}}* 2x$"
   ]
  },
  {
   "cell_type": "code",
   "execution_count": null,
   "metadata": {},
   "outputs": [],
   "source": []
  },
  {
   "cell_type": "markdown",
   "metadata": {},
   "source": [
    "__Задание 3__"
   ]
  },
  {
   "cell_type": "markdown",
   "metadata": {},
   "source": [
    "$y = \\frac{2x}{1-x^2}$"
   ]
  },
  {
   "cell_type": "markdown",
   "metadata": {},
   "source": [
    "$(\\frac{2x}{1-x^2})' = \\frac{(2x)' (1-x^2) - 2x(1-x^2)'}{(1-x^2)^2}=$\n",
    "\n",
    "$= \\frac{2*(1-x^2) - 2x * -2x}{(1-x^2)^2}= $\n",
    "\n",
    "$= \\frac{2-2x^2 + 4x ^2}{(1-x^2)^2}=\\frac{2+2x^2}{(1-x^2)^2}$"
   ]
  },
  {
   "cell_type": "code",
   "execution_count": null,
   "metadata": {},
   "outputs": [],
   "source": []
  },
  {
   "cell_type": "markdown",
   "metadata": {},
   "source": [
    "__Задание 4*__"
   ]
  },
  {
   "cell_type": "markdown",
   "metadata": {},
   "source": [
    "$y = \\sqrt{x+\\sqrt{x+\\sqrt x}}$"
   ]
  },
  {
   "cell_type": "markdown",
   "metadata": {},
   "source": [
    "$((x+\\sqrt{x+\\sqrt x})^{\\frac{1}{2}})'* ((x+\\sqrt x)^{\\frac{1}{2}})'*(x^{\\frac{1}{2}})'=$\n",
    "\n",
    "$=(\\frac{1}{2}(x+\\sqrt{x+\\sqrt x})^{-\\frac{1}{2}})* (\\frac{1}{2}(x+\\sqrt x)^{-\\frac{1}{2}})*(\\frac{1}{2}x^{-\\frac{1}{2}})*(x)'=$\n",
    "\n",
    "$=\\frac{1}{2\\sqrt {x+\\sqrt{x+\\sqrt x}}}*\\frac{1}{2\\sqrt{x+\\sqrt x}}*\\frac{1}{2\\sqrt x}$"
   ]
  },
  {
   "cell_type": "markdown",
   "metadata": {},
   "source": [
    "__Найти производную функции с помощью логарифмирования:__"
   ]
  },
  {
   "cell_type": "markdown",
   "metadata": {},
   "source": [
    "__Задание 5__"
   ]
  },
  {
   "cell_type": "markdown",
   "metadata": {},
   "source": [
    "$y = (x^2 + 2)^5 * (3x-x^3)^3$"
   ]
  },
  {
   "cell_type": "markdown",
   "metadata": {},
   "source": [
    "$y' = f(x)*(ln[f(x)])'$"
   ]
  },
  {
   "cell_type": "markdown",
   "metadata": {},
   "source": [
    "$y' = (x^2 + 2)^5 * (3x-x^3)^3 * (\\frac{5}{x^2 + 2} + \\frac{3}{3x - x^3})$"
   ]
  },
  {
   "cell_type": "code",
   "execution_count": null,
   "metadata": {},
   "outputs": [],
   "source": []
  },
  {
   "cell_type": "markdown",
   "metadata": {},
   "source": [
    "__Задание 6__"
   ]
  },
  {
   "cell_type": "markdown",
   "metadata": {},
   "source": [
    "$y = ^x\\sqrt x$"
   ]
  },
  {
   "cell_type": "code",
   "execution_count": null,
   "metadata": {},
   "outputs": [],
   "source": []
  },
  {
   "cell_type": "code",
   "execution_count": null,
   "metadata": {},
   "outputs": [],
   "source": []
  },
  {
   "cell_type": "markdown",
   "metadata": {},
   "source": [
    "__Задание 7*__"
   ]
  },
  {
   "cell_type": "markdown",
   "metadata": {},
   "source": [
    "$y = \\frac{(2-x^2)^3 * (x-1)^2}{(2x^3 - 3x)*e^x}$"
   ]
  },
  {
   "cell_type": "markdown",
   "metadata": {},
   "source": [
    "$y' = (\\frac{(2-x^2)^3 * (x-1)^2}{(2x^3 - 3x)*e^x})*(\\frac{3}{2-x^2} + \\frac{2}{x-1} - \\frac{1}{2x^3-3x} -e^x)$"
   ]
  },
  {
   "cell_type": "code",
   "execution_count": null,
   "metadata": {},
   "outputs": [],
   "source": []
  },
  {
   "cell_type": "code",
   "execution_count": null,
   "metadata": {},
   "outputs": [],
   "source": []
  },
  {
   "cell_type": "markdown",
   "metadata": {},
   "source": [
    "__Найти производную $y_x$__"
   ]
  },
  {
   "cell_type": "markdown",
   "metadata": {},
   "source": [
    "__Задание 8*__"
   ]
  },
  {
   "cell_type": "markdown",
   "metadata": {},
   "source": [
    "$x= \\frac{t^2}{t-1}$ \n",
    "\n",
    "$y= \\frac{t}{t^2-1}$ "
   ]
  },
  {
   "cell_type": "markdown",
   "metadata": {},
   "source": [
    "$(\\frac{t^2}{t-1})' = \\frac{(t^2)'*(t-1)-t^2*(t-1)'}{(t-1)^2} = \\frac{2t*(t-1)-t^2}{(t-1)^2} = 2*\\frac{t}{(t-1)}-\\frac{t^2}{(t-1)^2}$"
   ]
  },
  {
   "cell_type": "markdown",
   "metadata": {},
   "source": [
    "$(\\frac{t}{t^2-1})' = \\frac{(t)'*(t^2-1)-t*(t^2-1)'}{(t^2-1)^2}=\\frac{(t^2-1)-t*2t}{(t^2-1)^2} = \\frac{1}{(t^2-1)}-2*\\frac{t^2}{(t^2-1)^2}$\n",
    "\n",
    "$y_x = \\frac{y_t'}{x_t'}$\n",
    "\n",
    "__Упрощать не стал, не успеваю__"
   ]
  },
  {
   "cell_type": "code",
   "execution_count": null,
   "metadata": {},
   "outputs": [],
   "source": []
  },
  {
   "cell_type": "markdown",
   "metadata": {},
   "source": [
    "__Задание 9*__"
   ]
  },
  {
   "cell_type": "markdown",
   "metadata": {},
   "source": [
    "$arctg(\\frac{y}{x}) = ln \\sqrt{x^2+y^2}$"
   ]
  },
  {
   "cell_type": "code",
   "execution_count": null,
   "metadata": {},
   "outputs": [],
   "source": []
  },
  {
   "cell_type": "code",
   "execution_count": null,
   "metadata": {},
   "outputs": [],
   "source": []
  },
  {
   "cell_type": "markdown",
   "metadata": {},
   "source": [
    "__Задание 10__"
   ]
  },
  {
   "cell_type": "markdown",
   "metadata": {},
   "source": [
    "$y = ln(x + \\sqrt{x^2 + 1})$"
   ]
  },
  {
   "cell_type": "code",
   "execution_count": null,
   "metadata": {},
   "outputs": [],
   "source": []
  },
  {
   "cell_type": "code",
   "execution_count": null,
   "metadata": {},
   "outputs": [],
   "source": []
  },
  {
   "cell_type": "markdown",
   "metadata": {},
   "source": [
    "__Задание 11__"
   ]
  },
  {
   "cell_type": "markdown",
   "metadata": {},
   "source": [
    "$y = x * ln(x + \\sqrt{x^2 + 1}) - \\sqrt{x^2 + 1}$"
   ]
  },
  {
   "cell_type": "code",
   "execution_count": null,
   "metadata": {},
   "outputs": [],
   "source": []
  },
  {
   "cell_type": "code",
   "execution_count": null,
   "metadata": {},
   "outputs": [],
   "source": []
  },
  {
   "cell_type": "markdown",
   "metadata": {},
   "source": [
    "__Задание 12*__"
   ]
  },
  {
   "cell_type": "markdown",
   "metadata": {},
   "source": [
    "$y = \\arcsin(\\sin x)$"
   ]
  },
  {
   "cell_type": "markdown",
   "metadata": {},
   "source": [
    "$(\\arcsin(\\sin x))' = (\\arcsin(\\sin x))'(\\sin(x))' = \\frac{1}{\\sqrt{1-\\sin(x)^2}}*\\cos(x) = \\frac{\\cos(x)}{\\sqrt{1-\\sin(x)^2}}$"
   ]
  },
  {
   "cell_type": "code",
   "execution_count": 64,
   "metadata": {},
   "outputs": [],
   "source": []
  },
  {
   "cell_type": "markdown",
   "metadata": {},
   "source": [
    "__Задание 13*__"
   ]
  },
  {
   "cell_type": "markdown",
   "metadata": {},
   "source": [
    "__Найти длину `х` и ширину `у` прямоугольника при заданном периметре `Р` = 144 см, при которых данный прямоугольник имеет наибольшую площадь `S`__"
   ]
  },
  {
   "cell_type": "markdown",
   "metadata": {},
   "source": [
    "$P = 2(x + y), S = x * y$"
   ]
  },
  {
   "cell_type": "markdown",
   "metadata": {},
   "source": [
    "$y = 144 / 2 - x = 72 - x$\n",
    "\n",
    "$S = (72 -x) * x = 72x - x^2$\n",
    "\n",
    "$S' = 72 - 2x = 0$\n",
    "\n",
    "$72 - 2x = 0$\n",
    "\n",
    "$x = 72/2 = 36$"
   ]
  },
  {
   "cell_type": "code",
   "execution_count": 29,
   "metadata": {},
   "outputs": [],
   "source": [
    "import matplotlib.pyplot as plt\n",
    "import numpy as np\n",
    "title_dict = {'fontsize': 20, 'fontweight': 'bold', 'color': '#808080', 'family': 'Calibri'}\n",
    "label_dict = {'fontsize': '14', 'color': '#808080', 'family': 'Calibri'}"
   ]
  },
  {
   "cell_type": "code",
   "execution_count": 72,
   "metadata": {},
   "outputs": [
    {
     "data": {
      "image/png": "[encoded data removed]",
      "text/plain": [
       "<Figure size 432x288 with 1 Axes>"
      ]
     },
     "metadata": {
      "needs_background": "light"
     },
     "output_type": "display_data"
    }
   ],
   "source": [
    "x = np.linspace(-10, 80, 1000)\n",
    "y1 = 72 - 2 * x\n",
    "y2 = 72 * x - x**2\n",
    "\n",
    "plt.plot(x, y1, label=\"S '\")\n",
    "plt.plot(x, y2, label='Объем прямоугольника')\n",
    "\n",
    "plt.title('График', fontdict=title_dict, loc='left')\n",
    "\n",
    "plt.xlabel('Переменная x', fontdict=label_dict)\n",
    "plt.ylabel('Функция f(x)', fontdict=label_dict)\n",
    "plt.legend(loc='lower right')\n",
    "plt.grid()\n",
    "plt.show()\n"
   ]
  },
  {
   "cell_type": "markdown",
   "metadata": {},
   "source": [
    "__Наибольшая площадь прямоугольника достигается при х = 36__\n",
    "$$x = 36\\ см.,  y = 36\\ см.$$\n",
    "$$S = 36 * 36 = 1296\\ см^2$$"
   ]
  },
  {
   "cell_type": "code",
   "execution_count": null,
   "metadata": {},
   "outputs": [],
   "source": []
  }
 ],
 "metadata": {
  "kernelspec": {
   "display_name": "Python 3",
   "language": "python",
   "name": "python3"
  },
  "language_info": {
   "codemirror_mode": {
    "name": "ipython",
    "version": 3
   },
   "file_extension": ".py",
   "mimetype": "text/x-python",
   "name": "python",
   "nbconvert_exporter": "python",
   "pygments_lexer": "ipython3",
   "version": "3.7.3"
  }
 },
 "nbformat": 4,
 "nbformat_minor": 2
}
