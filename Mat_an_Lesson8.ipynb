{
 "cells": [
  {
   "cell_type": "markdown",
   "metadata": {},
   "source": [
    "### Производные функций нескольких переменных.\n",
    "\n",
    "#### Урок 8"
   ]
  },
  {
   "cell_type": "code",
   "execution_count": 1,
   "metadata": {},
   "outputs": [],
   "source": [
    "import math\n",
    "from sympy import *"
   ]
  },
  {
   "cell_type": "markdown",
   "metadata": {},
   "source": [
    "__Задание 1__\n",
    "\n",
    "__Найти частные производные первого и второго порядка. Убедиться в равенстве смешанных производных.__"
   ]
  },
  {
   "cell_type": "markdown",
   "metadata": {},
   "source": [
    "$$x^{3} + 3 x y^{2} + z^{2} - 39x - 36y + 2z + 26$$"
   ]
  },
  {
   "cell_type": "markdown",
   "metadata": {},
   "source": [
    "$$U'x = 3 x^{2} + 3 y^{2} - 39$$\n",
    "$$U'y = 6xy - 36$$\n",
    "$$U'z = 2z + 2$$\n"
   ]
  },
  {
   "cell_type": "markdown",
   "metadata": {},
   "source": [
    "$$U''xx = 6x$$\n",
    "$$U''xy = 3y$$\n",
    "$$U''xz = 0$$\n"
   ]
  },
  {
   "cell_type": "markdown",
   "metadata": {},
   "source": [
    "$$U''yx = 6y$$\n",
    "$$U''yy = 6x$$\n",
    "$$U''yz = 0$$\n"
   ]
  },
  {
   "cell_type": "markdown",
   "metadata": {},
   "source": [
    "$$U''zx = 0$$\n",
    "$$U''zy = 0$$\n",
    "$$U''zz = 2$$\n"
   ]
  },
  {
   "cell_type": "markdown",
   "metadata": {},
   "source": [
    "$U''xy = U''yx, U''xz = U''zx, U''yz = U''zy$"
   ]
  },
  {
   "cell_type": "code",
   "execution_count": null,
   "metadata": {},
   "outputs": [],
   "source": []
  },
  {
   "cell_type": "markdown",
   "metadata": {},
   "source": [
    "__Задание 2__"
   ]
  },
  {
   "cell_type": "markdown",
   "metadata": {},
   "source": [
    "$$U = \\frac{256}{x} + \\frac{x^2}{y} + \\frac{y^2}{z} + z^2$$\n"
   ]
  },
  {
   "cell_type": "markdown",
   "metadata": {},
   "source": [
    "$$U'x = -\\frac{256}{x^2} + \\frac{2x}{y}$$\n",
    "$$U'y = -\\frac{x^2}{y^2} + \\frac{2y}{z}$$\n",
    "$$U'z = -\\frac{y^2}{z^2} + 2z$$\n"
   ]
  },
  {
   "cell_type": "markdown",
   "metadata": {},
   "source": [
    "$$U''xx = \\frac{512}{x^3} + \\frac{2}{y}$$\n",
    "$$U''xy = -\\frac{2x}{y^2}$$\n",
    "$$U''xz = 0$$\n"
   ]
  },
  {
   "cell_type": "markdown",
   "metadata": {},
   "source": [
    "$$U''yx = -\\frac{2x}{y^2}$$\n",
    "$$U''yy = \\frac{2x^2}{y^3} + \\frac{2}{z}$$\n",
    "$$U''yz = -\\frac{2y}{z^2}$$\n"
   ]
  },
  {
   "cell_type": "markdown",
   "metadata": {},
   "source": [
    "$$U''zx = 0$$\n",
    "$$U''zy = -\\frac{2y}{z^2}$$\n",
    "$$U''zz = \\frac{2y^2}{z^3} + 2$$\n"
   ]
  },
  {
   "cell_type": "markdown",
   "metadata": {},
   "source": [
    "$U''xy = U''yx, U''xz = U''zx, U''yz = U''zy$"
   ]
  },
  {
   "cell_type": "code",
   "execution_count": null,
   "metadata": {},
   "outputs": [],
   "source": []
  },
  {
   "cell_type": "markdown",
   "metadata": {},
   "source": [
    "__Задание 3__"
   ]
  },
  {
   "cell_type": "markdown",
   "metadata": {},
   "source": [
    "Найти производную функции $𝑈 = 𝑥^2 + 𝑦^2 + 𝑧^2$ по направлению вектора $\\vec{𝑐}$(−9,8, −12) в точку 𝑀(8;−12;9)."
   ]
  },
  {
   "cell_type": "markdown",
   "metadata": {},
   "source": [
    "$|\\vec{𝑐}| = \\sqrt{x_0^2 + y_0^2 + z_0^2}$"
   ]
  },
  {
   "cell_type": "code",
   "execution_count": 2,
   "metadata": {},
   "outputs": [
    {
     "data": {
      "text/plain": [
       "17.0"
      ]
     },
     "execution_count": 2,
     "metadata": {},
     "output_type": "execute_result"
    }
   ],
   "source": [
    "x0, y0, z0 = -9, 8, -12\n",
    "length_c = math.sqrt(x0**2 + y0**2 + z0**2)\n",
    "length_c"
   ]
  },
  {
   "cell_type": "markdown",
   "metadata": {},
   "source": [
    "$|\\vec{𝑐}| =17$"
   ]
  },
  {
   "cell_type": "code",
   "execution_count": 3,
   "metadata": {},
   "outputs": [],
   "source": [
    "x1, y1, z1 = x0 / length_c, y0 / length_c, z0 / length_c\n"
   ]
  },
  {
   "cell_type": "markdown",
   "metadata": {},
   "source": [
    "$\\vec{𝑐_0} = \\frac{\\vec{𝑐}}{|\\vec{𝑐}|}(-\\frac{9}{17}, \\frac{8}{17}, -\\frac{12}{17})$"
   ]
  },
  {
   "cell_type": "markdown",
   "metadata": {},
   "source": [
    "$$U'x = 2x$$\n",
    "$$U'y = 2y$$\n",
    "$$U'z = 2z$$\n"
   ]
  },
  {
   "cell_type": "markdown",
   "metadata": {},
   "source": [
    "$grad\\ U|_{(8, -12, 9)} = (16, -24, 18)$"
   ]
  },
  {
   "cell_type": "markdown",
   "metadata": {},
   "source": [
    "$U'_\\vec{𝑐}|_{(8;−12;9)} = -\\frac{9}{17}*(16) + \\frac{8}{17}*(-24) -\\frac{12}{17}*18 = -\\frac{144}{17} - \\frac{192}{17} -\\frac{216}{17} = -\\frac{552}{17}$"
   ]
  },
  {
   "cell_type": "code",
   "execution_count": null,
   "metadata": {},
   "outputs": [],
   "source": []
  },
  {
   "cell_type": "markdown",
   "metadata": {},
   "source": [
    "__Задание 4__"
   ]
  },
  {
   "cell_type": "markdown",
   "metadata": {},
   "source": [
    "Найти производную функции $𝑈 = 𝑒^{𝑥^2+𝑦^2+𝑧^2}$ по направлению вектора $\\vec{d}$= (4,−13,−16) в точку 𝐿(−16;4;−13).\n"
   ]
  },
  {
   "cell_type": "markdown",
   "metadata": {},
   "source": [
    "$|\\vec{d}| = \\sqrt{𝑒^{𝑥^2+𝑦^2+𝑧^2}}$"
   ]
  },
  {
   "cell_type": "code",
   "execution_count": 4,
   "metadata": {},
   "outputs": [
    {
     "data": {
      "text/plain": [
       "5.780072151504669e+95"
      ]
     },
     "execution_count": 4,
     "metadata": {},
     "output_type": "execute_result"
    }
   ],
   "source": [
    "x0, y0, z0 = 4, -13, -16\n",
    "length_d = math.sqrt(math.exp(x0**2 + y0**2 + z0**2))\n",
    "length_d"
   ]
  },
  {
   "cell_type": "code",
   "execution_count": 5,
   "metadata": {},
   "outputs": [],
   "source": [
    "d_x, d_y, d_z = x0 / length_d, y0 / length_d, z0 / length_d"
   ]
  },
  {
   "cell_type": "markdown",
   "metadata": {},
   "source": [
    "$$U'x = 2x𝑒^{𝑥^2+𝑦^2+𝑧^2}$$\n",
    "$$U'y = 2y𝑒^{𝑥^2+𝑦^2+𝑧^2}$$\n",
    "$$U'z = 2z𝑒^{𝑥^2+𝑦^2+𝑧^2}$$"
   ]
  },
  {
   "cell_type": "code",
   "execution_count": 6,
   "metadata": {},
   "outputs": [],
   "source": [
    "x_l, y_l, z_l = -16, 4, -13\n",
    "L_x = 2 * x_l *length_d \n",
    "L_y = 2 * y_l *length_d \n",
    "L_z = 2 * z_l *length_d "
   ]
  },
  {
   "cell_type": "code",
   "execution_count": 7,
   "metadata": {},
   "outputs": [
    {
     "data": {
      "text/plain": [
       "(-1.849623088481494e+97, 4.624057721203735e+96, -1.5028187593912141e+97)"
      ]
     },
     "execution_count": 7,
     "metadata": {},
     "output_type": "execute_result"
    }
   ],
   "source": [
    "L_x, L_y, L_z"
   ]
  },
  {
   "cell_type": "code",
   "execution_count": 8,
   "metadata": {},
   "outputs": [
    {
     "name": "stdout",
     "output_type": "stream",
     "text": [
      "Производная функции = 184.0\n"
     ]
    }
   ],
   "source": [
    "proiz_function = d_x * L_x + d_y * L_y + d_z * L_z\n",
    "print(f'Производная функции = {proiz_function}')"
   ]
  },
  {
   "cell_type": "code",
   "execution_count": null,
   "metadata": {},
   "outputs": [],
   "source": []
  },
  {
   "cell_type": "markdown",
   "metadata": {},
   "source": [
    "__Задание 5*__"
   ]
  },
  {
   "cell_type": "markdown",
   "metadata": {},
   "source": [
    "Найти производную функции $𝑈 = log_{21}(𝑥^2 + 𝑦^2 + 𝑧^2)$ в точку 𝐹(−19;8;−4) по самому быстрому направлению."
   ]
  },
  {
   "cell_type": "code",
   "execution_count": 9,
   "metadata": {},
   "outputs": [],
   "source": [
    "# math.log(x^2+y^2+z^2, 21)"
   ]
  },
  {
   "cell_type": "markdown",
   "metadata": {},
   "source": [
    "$$U'x = \\frac{2 x}{x^2 + y^2 + z^2 \\log{(21)}}$$\n",
    "$$U'y = \\frac{2 y}{x^2 + y^2 + z^2 \\log{(21)}}$$\n",
    "$$U'z = \\frac{2 z}{x^2 + y^2 + z^2 \\log{(21)}}$$\n",
    "$$grad U = (\\frac{2 x}{x^2 + y^2 + z^2 \\log{(21)}}, \\frac{2 y}{x^2 + y^2 + z^2 \\log{(21)}}, \\frac{2 z}{x^2 + y^2 + z^2 \\log{(21)}})$$\n"
   ]
  },
  {
   "cell_type": "code",
   "execution_count": 10,
   "metadata": {},
   "outputs": [
    {
     "data": {
      "text/plain": [
       "(-0.08021745533498577, 0.033775770667362426, -0.016887885333681213)"
      ]
     },
     "execution_count": 10,
     "metadata": {},
     "output_type": "execute_result"
    }
   ],
   "source": [
    "f_x, f_y, f_z = -19, 8, -4\n",
    "\n",
    "F_x=2 * f_x / (f_x**2 + f_y**2 + f_z**2 * math.log(21))\n",
    "F_y=2 * f_y / (f_x**2 + f_y**2 + f_z**2 * math.log(21))\n",
    "F_z=2 * f_z / (f_x**2 + f_y**2 + f_z**2 * math.log(21))\n",
    "F_x, F_y, F_z"
   ]
  },
  {
   "cell_type": "markdown",
   "metadata": {},
   "source": [
    "$$grad\\ U|_{(-19, 8, -4)} = (-0.080, 0.034, -0.017)$$"
   ]
  },
  {
   "cell_type": "code",
   "execution_count": null,
   "metadata": {},
   "outputs": [],
   "source": []
  },
  {
   "cell_type": "code",
   "execution_count": null,
   "metadata": {},
   "outputs": [],
   "source": []
  },
  {
   "cell_type": "code",
   "execution_count": null,
   "metadata": {},
   "outputs": [],
   "source": []
  },
  {
   "cell_type": "code",
   "execution_count": null,
   "metadata": {},
   "outputs": [],
   "source": []
  },
  {
   "cell_type": "markdown",
   "metadata": {},
   "source": [
    "Исследовать на экстремум следующие функции:\n",
    "\n",
    "__Задание 6__"
   ]
  },
  {
   "cell_type": "markdown",
   "metadata": {},
   "source": [
    "$$U = x^2y + \\frac{1}{3}y^3 + 2x^2 + 3y^2 - 1$$"
   ]
  },
  {
   "cell_type": "markdown",
   "metadata": {},
   "source": [
    "$\\left\\{\\begin{array}{ll}\n",
    "U'x = 2xy+4x = 0\\\\\n",
    "U'y = x^2+y^2+6y = 0\n",
    "\\end{array}\\right.$\n",
    "$\\Rightarrow \\left\\{\\begin{array}{ll}\n",
    "2*y*\\sqrt{-y^2-6y} + 4*\\sqrt{-y^2-6y} = 0\\\\\n",
    "x = \\sqrt{-y^2-6y}\n",
    "\\end{array}\\right.\\Rightarrow $\n",
    "\n"
   ]
  },
  {
   "cell_type": "code",
   "execution_count": 11,
   "metadata": {},
   "outputs": [
    {
     "data": {
      "text/plain": [
       "[-6, -2, 0]"
      ]
     },
     "execution_count": 11,
     "metadata": {},
     "output_type": "execute_result"
    }
   ],
   "source": [
    "# Находим корни\n",
    "y = symbols('y')\n",
    "solve(Eq(2 * y * sqrt(-y**2 - 6 * y) + 4 * sqrt(-y**2 - 6 * y), 0), y)\n"
   ]
  },
  {
   "cell_type": "markdown",
   "metadata": {},
   "source": [
    "При таких значениях $y$ найдем соответсвующие значения $x$:\n",
    "$M_1 =(0;-6), M_2 =(-2\\sqrt{2};-2), M_3 =(2\\sqrt{2};-2), M_4 =(0;0)$\n"
   ]
  },
  {
   "cell_type": "markdown",
   "metadata": {},
   "source": [
    "$$U''xx = 2y+4$$\n",
    "$$U''xy = 2x$$\n",
    "\n",
    "$$U''yx = 2x$$\n",
    "$$U''yy = 2y+6$$\n",
    "\n",
    "$$\\Delta_1 = 2y+4, \\Delta_2 = (2y+4)*(2y+6)-2x^2$$\n"
   ]
  },
  {
   "cell_type": "code",
   "execution_count": 25,
   "metadata": {},
   "outputs": [
    {
     "name": "stdout",
     "output_type": "stream",
     "text": [
      "(-8, 48) Максимум\n",
      "(0, -32) Минор равен нулю\n",
      "(0, -32) Минор равен нулю\n",
      "(4, 24)  Минимум\n"
     ]
    }
   ],
   "source": [
    "def delta1_calc(x, y):\n",
    "    delta1 = 2 * y + 4\n",
    "    return delta1\n",
    "\n",
    "def delta2_calc(x, y):\n",
    "    xx = 2 * y + 4\n",
    "    xy = (2 * x)**2\n",
    "    yy = 2 * y + 6\n",
    "    delta2 = xx * yy - xy\n",
    "    return delta2\n",
    "\n",
    "x1, x2, x3, x4 = 0, -2*sqrt(2), 2*sqrt(2), 0\n",
    "y1, y2, y3, y4 = -6, -2, -2, 0\n",
    "\n",
    "delta1_calc(x4, y4), delta2_calc(x4, y4)\n",
    "print(f'{delta1_calc(x1, y1), delta2_calc(x1, y1)} Максимум')\n",
    "print(f'{delta1_calc(x2, y2), delta2_calc(x2, y2)} Минор равен нулю')\n",
    "print(f'{delta1_calc(x3, y3), delta2_calc(x3, y3)} Минор равен нулю')\n",
    "print(f'{delta1_calc(x4, y4), delta2_calc(x4, y4)}  Минимум')\n"
   ]
  },
  {
   "cell_type": "code",
   "execution_count": null,
   "metadata": {},
   "outputs": [],
   "source": []
  },
  {
   "cell_type": "code",
   "execution_count": null,
   "metadata": {},
   "outputs": [],
   "source": []
  },
  {
   "cell_type": "code",
   "execution_count": null,
   "metadata": {},
   "outputs": [],
   "source": []
  },
  {
   "cell_type": "code",
   "execution_count": null,
   "metadata": {},
   "outputs": [],
   "source": []
  },
  {
   "cell_type": "code",
   "execution_count": null,
   "metadata": {},
   "outputs": [],
   "source": []
  },
  {
   "cell_type": "code",
   "execution_count": null,
   "metadata": {},
   "outputs": [],
   "source": []
  },
  {
   "cell_type": "markdown",
   "metadata": {},
   "source": [
    "__Задание 7*__"
   ]
  },
  {
   "cell_type": "markdown",
   "metadata": {},
   "source": [
    "$$U = e^{\\frac{-x}{2}}(x^2 + y^2)$$"
   ]
  },
  {
   "cell_type": "code",
   "execution_count": null,
   "metadata": {},
   "outputs": [],
   "source": []
  },
  {
   "cell_type": "code",
   "execution_count": null,
   "metadata": {},
   "outputs": [],
   "source": []
  },
  {
   "cell_type": "markdown",
   "metadata": {},
   "source": [
    "__Задание 8**__"
   ]
  },
  {
   "cell_type": "markdown",
   "metadata": {},
   "source": [
    "С помощь метода наименьших квадратов (МНК) подобрать значения параметров $𝑎$ и $𝑏$ для сигмоидальной функции $𝑦 = \\frac {1}{1+𝑒^{−𝑎𝑥+𝑏}}$ по заданному распределению в файле «SGN.ipynb»"
   ]
  },
  {
   "cell_type": "code",
   "execution_count": null,
   "metadata": {},
   "outputs": [],
   "source": []
  }
 ],
 "metadata": {
  "kernelspec": {
   "display_name": "Python 3",
   "language": "python",
   "name": "python3"
  },
  "language_info": {
   "codemirror_mode": {
    "name": "ipython",
    "version": 3
   },
   "file_extension": ".py",
   "mimetype": "text/x-python",
   "name": "python",
   "nbconvert_exporter": "python",
   "pygments_lexer": "ipython3",
   "version": "3.7.3"
  }
 },
 "nbformat": 4,
 "nbformat_minor": 2
}
