{
 "cells": [
  {
   "cell_type": "markdown",
   "metadata": {},
   "source": [
    "### Производные функций нескольких переменных. 2 часть\n",
    "\n",
    "#### Урок 9"
   ]
  },
  {
   "cell_type": "markdown",
   "metadata": {},
   "source": [
    "__Задание 1__\n",
    "\n",
    "__Исследовать на условный экстремум:__"
   ]
  },
  {
   "cell_type": "markdown",
   "metadata": {},
   "source": [
    "$U = 3 - 8x + 6y$,      если $x^2 + y^2 = 36$"
   ]
  },
  {
   "cell_type": "markdown",
   "metadata": {},
   "source": [
    "$L(\\lambda_1, x, y) = 3 - 8x + 6y + \\lambda_1 * (x^2 + y^2 - 36)$"
   ]
  },
  {
   "cell_type": "markdown",
   "metadata": {},
   "source": [
    "$\\left\\{\\begin{array}{ll}\n",
    "L_x' = -8 + \\lambda_1 * 2x = 0\\\\\n",
    "L_y' = 6 + \\lambda_1 * 2y = 0\\\\\n",
    "L_{\\lambda_1}' = x^2 + y^2 - 36 = 0\n",
    "\\end{array}\\right.\\Rightarrow $\n",
    "$\\left\\{\\begin{array}{ll}\n",
    "x = \\frac{8}{2\\lambda_1}\\\\\n",
    "y = -\\frac{6}{2\\lambda_1}\\\\\n",
    "\\frac{64}{4\\lambda_1^2} + \\frac{36}{4\\lambda_1^2} = 36\n",
    "\\end{array}\\right.\\Rightarrow $\n",
    "$\\left\\{\\begin{array}{ll}\n",
    "x = \\frac{8}{2\\lambda_1}\\\\\n",
    "y = -\\frac{6}{2\\lambda_1}\\\\\n",
    "\\lambda_1^2 = \\frac{25}{36}\n",
    "\\end{array}\\right.\\Rightarrow $\n"
   ]
  },
  {
   "cell_type": "markdown",
   "metadata": {},
   "source": [
    "Экстремумы $(\\frac{5}{6}, 4.8, -3.6), (-\\frac{5}{6}, -4.8, 3.6)$"
   ]
  },
  {
   "cell_type": "markdown",
   "metadata": {},
   "source": [
    "$L_{xx}'' = 2\\lambda_1$, $L_{yy}'' = 2\\lambda_1$, $L_{\\lambda_1\\lambda_1}'' = 0$\n",
    "\n",
    "$L_{xy}'' = 0$, $L_{x\\lambda_1}'' = 2x$, $L_{y\\lambda_1}'' = 2y$\n",
    "\n",
    "$\\begin{pmatrix}\n",
    "L_{\\lambda_1\\lambda_1}'' & L_{\\lambda_1x}'' & L_{\\lambda_1y}''\\\\\n",
    "L_{x\\lambda_1}'' & L_{xx}'' & L_{xy}''\\\\\n",
    "L_{y\\lambda_1}'' & L_{yx}'' & L_{yy}''\n",
    "\\end{pmatrix}$=\n",
    "$\\begin{pmatrix}\n",
    "0 & 2x & 2y\\\\\n",
    "2x & 2\\lambda_1 & 0\\\\\n",
    "2y & 0 & 2\\lambda_1\n",
    "\\end{pmatrix}$\n"
   ]
  },
  {
   "cell_type": "markdown",
   "metadata": {},
   "source": [
    "$\\left|\\begin{array}{ll}\n",
    "0 & 2x & 2y\\\\\n",
    "2x & 2\\lambda_1 & 0\\\\\n",
    "2y & 0 & 2\\lambda_1\n",
    "\\end{array}\\right|$=\n",
    "0 *\n",
    "$\\left|\\begin{array}{ll}\n",
    "2\\lambda_1 & 0\\\\\n",
    "0 & 2\\lambda_1\n",
    "\\end{array}\\right|$-\n",
    "2x*\n",
    "$\\left|\\begin{array}{ll}\n",
    "2x & 0\\\\\n",
    "2y & 2\\lambda_1\n",
    "\\end{array}\\right|$+\n",
    "2y*\n",
    "$\\left|\\begin{array}{ll}\n",
    "2x & 2\\lambda_1\\\\\n",
    "2y & 0\n",
    "\\end{array}\\right|$=\n"
   ]
  },
  {
   "cell_type": "markdown",
   "metadata": {},
   "source": [
    "$= 0 - 2x * (2x * 2\\lambda_1 - 0) + 2y * (0 - 2y * 2\\lambda_1) = -8\\lambda_1(x^2 + y^2)$\n",
    "\n",
    "Точка минимума $(\\frac{5}{6}, 4.8, -3.6)$(определитель отрицательный), точка максимума $(-\\frac{5}{6}, -4.8, 3.6)$"
   ]
  },
  {
   "cell_type": "code",
   "execution_count": 5,
   "metadata": {},
   "outputs": [],
   "source": []
  },
  {
   "cell_type": "markdown",
   "metadata": {},
   "source": [
    "__Задание 2__\n",
    "\n",
    "__Исследовать на условный экстремум:__"
   ]
  },
  {
   "cell_type": "markdown",
   "metadata": {},
   "source": [
    "$U = 2x^2 + 12xy + 32y^2 + 15$,      если $x^2 + 16y^2 = 64$"
   ]
  },
  {
   "cell_type": "markdown",
   "metadata": {},
   "source": [
    "$L(\\lambda_1, x, y) = 2x^2 + 12xy + 32y^2 + 15 + \\lambda_1 * (x^2 + 16y^2 - 64)$"
   ]
  },
  {
   "cell_type": "markdown",
   "metadata": {},
   "source": [
    "$\\left\\{\\begin{array}{ll}\n",
    "L_x' = 4x + 12y + \\lambda_1 * 2x = 0\\\\\n",
    "L_y' = 12x + 64y + \\lambda_1 * 32y = 0\\\\\n",
    "L_{\\lambda_1}' = x^2 + 16y^2 - 64 = 0\n",
    "\\end{array}\\right.\\Rightarrow $\n"
   ]
  },
  {
   "cell_type": "markdown",
   "metadata": {},
   "source": [
    "Экстремумы $(-4\\sqrt 2, -\\sqrt 2, -\\frac{7}{2}), (-4\\sqrt 2, \\sqrt2, -\\frac{1}{2}), (4\\sqrt 2, -\\sqrt2, -\\frac{1}{2}), (4\\sqrt 2, \\sqrt2, -\\frac{7}{2})$"
   ]
  },
  {
   "cell_type": "markdown",
   "metadata": {},
   "source": [
    "$L_{xx}'' = 4 + 2\\lambda_1$, $L_{yy}'' = 64 + 32\\lambda_1$, $L_{\\lambda_1\\lambda_1}'' = 0$\n",
    "\n",
    "$L_{xy}'' = 12$, $L_{x\\lambda_1}'' = 2x$, $L_{y\\lambda_1}'' = 32y$\n",
    "\n",
    "$\\begin{pmatrix}\n",
    "L_{\\lambda_1\\lambda_1}'' & L_{\\lambda_1x}'' & L_{\\lambda_1y}''\\\\\n",
    "L_{x\\lambda_1}'' & L_{xx}'' & L_{xy}''\\\\\n",
    "L_{y\\lambda_1}'' & L_{yx}'' & L_{yy}''\n",
    "\\end{pmatrix}$=\n",
    "$\\begin{pmatrix}\n",
    "0 & 2x & 32y\\\\\n",
    "2x & 4 + 2\\lambda_1 & 12\\\\\n",
    "32y & 12 & 64 + 32\\lambda_1\n",
    "\\end{pmatrix}$"
   ]
  },
  {
   "cell_type": "markdown",
   "metadata": {},
   "source": [
    "$\\left|\\begin{array}{ll}\n",
    "0 & 2x & 32y\\\\\n",
    "2x & 4 + 2\\lambda_1 & 12\\\\\n",
    "32y & 12 & 64 + 32\\lambda_1\n",
    "\\end{array}\\right|$=\n",
    "0 *\n",
    "$\\left|\\begin{array}{ll}\n",
    "4 + 2\\lambda_1 & 12\\\\\n",
    "12 & 64 + 32\\lambda_1\n",
    "\\end{array}\\right|$-\n",
    "2x*\n",
    "$\\left|\\begin{array}{ll}\n",
    "2x & 12\\\\\n",
    "32y & 64 + 32\\lambda_1\n",
    "\\end{array}\\right|$+\n",
    "32y*\n",
    "$\\left|\\begin{array}{ll}\n",
    "2x & 4 + 2\\lambda_1\\\\\n",
    "32y & 12\n",
    "\\end{array}\\right|$=\n"
   ]
  },
  {
   "cell_type": "markdown",
   "metadata": {},
   "source": [
    "$= 0 - (2x*(2x*(64 + 32\\lambda_1))-384y) + 32y * (24x -(32y(4+2\\lambda_1)))$"
   ]
  },
  {
   "cell_type": "code",
   "execution_count": 31,
   "metadata": {},
   "outputs": [
    {
     "name": "stdout",
     "output_type": "stream",
     "text": [
      "-18432.000000000004 определитель отрицательный-минимум\n",
      "18432.000000000004 определитель не отрицательный-максимум\n",
      "18432.000000000004 определитель не отрицательный-максимум(равен предыдущему)\n",
      "-18432.000000000004 определитель отрицательный-минимум(равен первому)\n"
     ]
    }
   ],
   "source": [
    "x1, x2, x3, x4 = -4 * math.sqrt(2), -4 * math.sqrt(2), 4 * math.sqrt(2), 4 * math.sqrt(2)\n",
    "y1, y2, y3, y4 = -math.sqrt (2), math.sqrt(2), -math.sqrt(2), math.sqrt(2)\n",
    "z1, z2, z3, z4 = -7/2, -1/2, -1/2, -7/2\n",
    "\n",
    "def calc_opredel(x, y, z):\n",
    "    opredel = 2 * x * (2 * x * (64 + 32*z)-384 * y)+32 * y * (32 * y * (4 + 2 * z))\n",
    "    return opredel\n",
    "\n",
    "print(f'{calc_opredel(x1, y1, z1)} определитель отрицательный-минимум')\n",
    "print(f'{calc_opredel(x2, y2, z2)} определитель не отрицательный-максимум')\n",
    "print(f'{calc_opredel(x3, y3, z3)} определитель не отрицательный-максимум(равен предыдущему)')\n",
    "print(f'{calc_opredel(x4, y4, z4)} определитель отрицательный-минимум(равен первому)')"
   ]
  },
  {
   "cell_type": "code",
   "execution_count": null,
   "metadata": {},
   "outputs": [],
   "source": []
  },
  {
   "cell_type": "code",
   "execution_count": null,
   "metadata": {},
   "outputs": [],
   "source": []
  },
  {
   "cell_type": "markdown",
   "metadata": {},
   "source": [
    "__Задание 3__\n",
    "\n",
    "__Численно найти хотя бы один действительный корень системы нелинейных уравнений.__"
   ]
  },
  {
   "cell_type": "markdown",
   "metadata": {},
   "source": [
    "$\\left\\{\\begin{array}{ll}\n",
    "x^2 - y^2 + 3xy^3 - 2x^2y^2 + 2x - 3y - 5 = 0\\\\\n",
    "3y^3 - 2x^2 + 2x^3y - 5x^2y^2 + 5 = 0\n",
    "\\end{array}\\right.$\n",
    "\n"
   ]
  },
  {
   "cell_type": "code",
   "execution_count": 36,
   "metadata": {},
   "outputs": [],
   "source": [
    "# from math import sin, cos\n",
    "# from typing import Callable\n",
    "# import unittest\n",
    "\n",
    "# def newton(f: Callable[[float], float], f_prime: Callable[[float], float], x0: float, \n",
    "#     eps: float=1e-7, kmax: int=1e3) -> float:\n",
    "    \n",
    "#     x, x_prev, i = x0, x0 + 2 * eps, 0\n",
    "    \n",
    "#     while abs(x - x_prev) >= eps and i < kmax:\n",
    "#         x, x_prev, i = x - f(x) / f_prime(x), x, i + 1\n",
    "\n",
    "#     return x\n",
    "\n",
    "# def f(x: float) -> float:\n",
    "#     return x**2-y**2+3*x*y**3-2*x**2*y**2+2*x-3*y-5\n",
    "\n",
    "# def f_prime(x: float) -> float:\n",
    "#     return -4*x+6*x**2*y-10*x*y**2\n",
    "\n",
    "# x0=100\n",
    "\n",
    "# print (newton(f, f_prime, x0))"
   ]
  },
  {
   "cell_type": "code",
   "execution_count": 40,
   "metadata": {},
   "outputs": [
    {
     "name": "stdout",
     "output_type": "stream",
     "text": [
      "-1.1390267070089881 -1.3562146820337226\n"
     ]
    }
   ],
   "source": [
    "###### import numpy as np\n",
    "from scipy.optimize import fsolve, broyden1\n",
    "import math\n",
    "\n",
    "def equations(p):\n",
    "    x, y = p\n",
    "    # Запись системы уравнения вида x+y=2, x-y=0\n",
    "    return (x**2-y**2+3*x*y**3-2*x**2*y**2+2*x-3*y-5, 3*y**2-2*x**2+2*x**3*y-5*x**2*y**2+5)\n",
    "\n",
    "# Численное решение нелинечной системы уравнений\n",
    "x, y =  fsolve(equations, (-10, -10))\n",
    "print (x, y)"
   ]
  },
  {
   "cell_type": "code",
   "execution_count": 34,
   "metadata": {},
   "outputs": [
    {
     "name": "stdout",
     "output_type": "stream",
     "text": [
      "1.0113308698142318 1.7687668659718236 1\n"
     ]
    }
   ],
   "source": [
    "###### import numpy as np\n",
    "from scipy.optimize import fsolve, broyden1\n",
    "# import math\n",
    "\n",
    "def equations(p):\n",
    "    x, y = p\n",
    "    # Запись системы уравнения вида x+y=2, x-y=0\n",
    "    return (x**2-y**2+3*x*y**3-2*x**2*y**2+2*x-3*y-5, 3*y**2-2*x**2+2*x**3*y-5*x**2*y**2+5)\n",
    "\n",
    "# Численное решение нелинечной системы уравнений\n",
    "\n",
    "(x, y), info, ier, mesg =  fsolve(equations, (10, 10), full_output=True)\n",
    "print (x, y, ier)"
   ]
  },
  {
   "cell_type": "markdown",
   "metadata": {},
   "source": [
    "__Задание 4*__\n",
    "\n",
    "__Предложить алгоритм, который найдет все 5 действительных корней__"
   ]
  },
  {
   "cell_type": "code",
   "execution_count": null,
   "metadata": {},
   "outputs": [],
   "source": []
  },
  {
   "cell_type": "code",
   "execution_count": null,
   "metadata": {},
   "outputs": [],
   "source": []
  },
  {
   "cell_type": "code",
   "execution_count": null,
   "metadata": {},
   "outputs": [],
   "source": []
  },
  {
   "cell_type": "code",
   "execution_count": null,
   "metadata": {},
   "outputs": [],
   "source": []
  },
  {
   "cell_type": "code",
   "execution_count": null,
   "metadata": {},
   "outputs": [],
   "source": []
  }
 ],
 "metadata": {
  "kernelspec": {
   "display_name": "Python 3",
   "language": "python",
   "name": "python3"
  },
  "language_info": {
   "codemirror_mode": {
    "name": "ipython",
    "version": 3
   },
   "file_extension": ".py",
   "mimetype": "text/x-python",
   "name": "python",
   "nbconvert_exporter": "python",
   "pygments_lexer": "ipython3",
   "version": "3.7.3"
  }
 },
 "nbformat": 4,
 "nbformat_minor": 2
}
