{
 "cells": [
  {
   "cell_type": "markdown",
   "metadata": {},
   "source": [
    "### Урок 10. Тема “Ряды”\n",
    "\n",
    "#### Задание 1. Исследовать ряд на сходимость, используя признак д’Аламбера: "
   ]
  },
  {
   "cell_type": "markdown",
   "metadata": {},
   "source": [
    "$$\\sum\\limits_{n=1}^\\infty \\frac{n^n}{(n!)^2}$$\n",
    "\n",
    "$$\\lim_{n \\to \\infty} \\frac{a_{n+1}}{a_n} = \\lim_{n \\to \\infty} \\frac{(n+1)^{n+1}}{((n+1)!)^2}:\\frac{n^n}{(n!)^2}= \\lim_{n \\to \\infty} \\frac{(n+1)^{n+1}}{(n+1)^2*n^n}= \\lim_{n \\to \\infty} \\frac{(\\frac{n+1}{n})^n}{n+1}= \\lim_{n \\to \\infty} \\frac{e}{n+1}= 0 < 1$$"
   ]
  },
  {
   "cell_type": "markdown",
   "metadata": {},
   "source": [
    "__Т.к. результат меньше единицы, ряд сходится__"
   ]
  },
  {
   "cell_type": "code",
   "execution_count": null,
   "metadata": {},
   "outputs": [],
   "source": []
  },
  {
   "cell_type": "markdown",
   "metadata": {},
   "source": [
    "#### Задание 2. Исследовать ряд на сходимость, используя радикальный признак Коши: "
   ]
  },
  {
   "cell_type": "markdown",
   "metadata": {},
   "source": [
    "$$\\sum\\limits_{n=1}^\\infty \\frac{n}{(2)^n}$$\n",
    "\n",
    "$$\\lim_{n \\to \\infty} \\sqrt[n]{a_n} = \\lim_{n \\to \\infty} \\sqrt[n]{\\frac{n}{2^n}} = \\lim_{n \\to \\infty} \\frac {\\sqrt[n]{n}}{2} = \\frac{1}{2} < 1$$"
   ]
  },
  {
   "cell_type": "markdown",
   "metadata": {},
   "source": [
    "__Здесь также как и по д'Аламберу. Т.к. результат меньше единицы, ряд сходится__"
   ]
  },
  {
   "cell_type": "code",
   "execution_count": null,
   "metadata": {},
   "outputs": [],
   "source": []
  },
  {
   "cell_type": "markdown",
   "metadata": {},
   "source": [
    "#### Задание 3. Исследовать ряд на сходимость, используя признак Лейбница:"
   ]
  },
  {
   "cell_type": "code",
   "execution_count": null,
   "metadata": {},
   "outputs": [],
   "source": []
  },
  {
   "cell_type": "markdown",
   "metadata": {},
   "source": [
    "$$\\sum\\limits_{n=1}^\\infty \\frac{(-1)^n}{n+\\ln n}$$\n",
    "\n",
    "$\\left\\{\\begin{array}{ll}\n",
    "\\lim \\limits_{n \\to \\infty}|a_n| = 0\\\\\n",
    "|a_{n+1}| < |a_n|\\\\\n",
    "\\sum\\limits_{n=1}^\\infty \\frac{-1}{n+\\ln n} \\sim 0 (\\frac{1}{n^1})\n",
    "\\end{array}\\right.$\n",
    "$\\Rightarrow \\sum\\limits_{n=1}^\\infty \\frac{(-1)^n}{n+\\ln n} $ - ряд сходится условно"
   ]
  },
  {
   "cell_type": "code",
   "execution_count": null,
   "metadata": {},
   "outputs": [],
   "source": []
  },
  {
   "cell_type": "markdown",
   "metadata": {},
   "source": [
    "#### Задание 4. Исследовать ряд на сходимость, используя признак Раабе:"
   ]
  },
  {
   "cell_type": "markdown",
   "metadata": {},
   "source": [
    "$$\\sum\\limits_{n=1}^\\infty \\frac{3^n}{2^n}$$\n",
    "\n",
    "$$\\lim_{n \\to \\infty}n (\\frac{a_n}{a_{n+1}}-1) = \\lim_{n \\to \\infty}n (\\frac{3^n}{2^n} : \\frac{3^{n+1}}{2^{n+1}}-1) = \\lim_{n \\to \\infty}n (-\\frac{1}{3}) = -\\infty < 1$$"
   ]
  },
  {
   "cell_type": "markdown",
   "metadata": {},
   "source": [
    "__По признаку Раабе, если результат меньше единицы, ряд расходится__"
   ]
  },
  {
   "cell_type": "code",
   "execution_count": null,
   "metadata": {},
   "outputs": [],
   "source": []
  },
  {
   "cell_type": "markdown",
   "metadata": {},
   "source": [
    "__Задание 5. Разложить функцию по Тейлору в единице:__"
   ]
  },
  {
   "cell_type": "markdown",
   "metadata": {},
   "source": [
    "$f(x) = \\ln(16x^2)$\n",
    "\n",
    "$f(x) = ln(16x^2)$ = $ln(16) + ln(x^2)$ = $2ln(4) + 2ln(x)$<br>\n",
    "$f(x) = 2ln(4) + 2\\sum\\limits_{n=1}^\\infty(-1)^{n+1}(x-1)^n$"
   ]
  },
  {
   "cell_type": "code",
   "execution_count": null,
   "metadata": {},
   "outputs": [],
   "source": []
  },
  {
   "cell_type": "markdown",
   "metadata": {},
   "source": [
    "__Задание 6*. Дана функция $f(x) = x^2$__"
   ]
  },
  {
   "cell_type": "markdown",
   "metadata": {},
   "source": [
    "__a. Разложить функцию в ряд Фурье по косинусам на отрезке $x\\in [-2;0]$__"
   ]
  },
  {
   "cell_type": "code",
   "execution_count": null,
   "metadata": {},
   "outputs": [],
   "source": []
  },
  {
   "cell_type": "code",
   "execution_count": null,
   "metadata": {},
   "outputs": [],
   "source": []
  },
  {
   "cell_type": "markdown",
   "metadata": {},
   "source": [
    "__b. Построить график функции и ее разложения.__ "
   ]
  },
  {
   "cell_type": "code",
   "execution_count": 3,
   "metadata": {},
   "outputs": [],
   "source": [
    "import numpy as np\n",
    "import matplotlib.pyplot as plt\n",
    "%matplotlib inline"
   ]
  },
  {
   "cell_type": "code",
   "execution_count": 4,
   "metadata": {},
   "outputs": [],
   "source": [
    "def f(x):\n",
    "    return np.power(x, 2)"
   ]
  },
  {
   "cell_type": "code",
   "execution_count": 9,
   "metadata": {},
   "outputs": [
    {
     "data": {
      "image/png": "[encoded data removed]",
      "text/plain": [
       "<Figure size 432x288 with 1 Axes>"
      ]
     },
     "metadata": {
      "needs_background": "light"
     },
     "output_type": "display_data"
    }
   ],
   "source": [
    "x = np.linspace(-100, 100, 1000)\n",
    "y = np.array(list(map(f, x)))\n",
    "\n",
    "plt.plot(x, y, c='b', label=\"f(x) = x**2\")\n",
    "\n",
    "plt.title('График', loc='left')\n",
    "plt.xlabel('Переменная x')\n",
    "plt.ylabel('Функция f(x)')\n",
    "plt.legend(loc='lower right')\n",
    "plt.grid()\n",
    "plt.show()"
   ]
  },
  {
   "cell_type": "code",
   "execution_count": null,
   "metadata": {},
   "outputs": [],
   "source": []
  },
  {
   "cell_type": "markdown",
   "metadata": {},
   "source": [
    "### Тема: \"Понятие об интеграле\"\n",
    "\n",
    "__Задание 1. Найти неопределенный интеграл:__"
   ]
  },
  {
   "cell_type": "markdown",
   "metadata": {},
   "source": [
    "$$\\int(2x^2 - 2x - 1 + \\sin x - \\cos x + \\ln x + e^x)dx = \\frac{2x^3}{3} - x^2 - 2x - \\cos x - \\sin x +x(\\ln(x) -1) + e^x + C$$\n",
    "\n",
    "$$\\int(e^x)dx = e^x$, $\\int(2x^2)dx = \\frac{2x^3}{3}$, $\\int(-2x)dx = -x^2$$"
   ]
  },
  {
   "cell_type": "code",
   "execution_count": null,
   "metadata": {},
   "outputs": [],
   "source": []
  },
  {
   "cell_type": "markdown",
   "metadata": {},
   "source": [
    "__Задание 2. Найти неопределенный интеграл:__\n"
   ]
  },
  {
   "cell_type": "markdown",
   "metadata": {},
   "source": [
    "$$\\int(2x + 6xz^2 - 5x^2y - 3\\ln z)dx = \\frac{(6z^2 + 2)x^2}{2} - \\frac{5yx^3}{3} - 3ln(z)x + C$$\n",
    "\n",
    "$\\int_{}^{}(2x + 6xz^2 - 5x^2y - 3ln(z))dx$ = $(6z^2 + 2)\\int{}^{}xdx - 5y\\int{}^{}x^2dx - 3ln(x)\\int{}^{}1dx$<br>\n",
    "$\\int_{}^{}xdx$ = $\\frac{x^2}{2} + C$<br>\n",
    "$\\int_{}^{}x^2dx$ = $\\frac{x^3}{3} + C$<br>\n",
    "$\\int_{}^{}1dx$ = $x + C$<br>\n",
    "$\\int_{}^{}(2x + 6xz^2 - 5x^2y - 3ln(z))dx$ = $\\frac{(6z^2 + 2)x^2}{2} - \\frac{5yx^3}{3} - 3ln(z)x + C$"
   ]
  },
  {
   "cell_type": "code",
   "execution_count": null,
   "metadata": {},
   "outputs": [],
   "source": []
  },
  {
   "cell_type": "markdown",
   "metadata": {},
   "source": [
    "__Задание 3. Вычислить определенный интеграл:__ \n"
   ]
  },
  {
   "cell_type": "markdown",
   "metadata": {},
   "source": [
    "$$\\int\\limits_{0}^\\pi 3x^2 sin(2x)dx = $$"
   ]
  },
  {
   "cell_type": "markdown",
   "metadata": {},
   "source": [
    "$\\int_{}^{}3x^2sin(2x)dx$<br>\n",
    "$\\int_{}^{}udv$ = $uv - \\int_{}^{}vdu$<br>\n",
    "$u$ = $x^2$<br>\n",
    "$dv$ = $3sin(2x)dx$<br>\n",
    "$du$ = $2xdx$<br>\n",
    "$v$ = $-3\\frac{cos(2x)}{2}$<br>\n",
    "$\\int_{}^{}3x^2sin(2x)dx$ = $-3x^2\\frac{cos(2x)}{2} - \\int_{}^{}-3xcos(2x)dx$ = $-3x^2\\frac{cos(2x)}{2} + \\int_{}^{}3xcos(2x)dx$<br>\n",
    "<br>\n",
    "$\\int_{}^{}3xcos(2x)dx$<br>\n",
    "$u$ = $x$<br>\n",
    "$dv$ = $cos(2x)dx$<br>\n",
    "$du$ = $xdx$<br>\n",
    "$v$ = $3\\frac{sin(2x)}{2}$<br>\n",
    "$\\int_{}^{}3xcos(2x)dx$ = $3x\\frac{sin(2x)}{2} - \\int_{}^{}3\\frac{sin(2x)}{2}dx$<br>\n",
    "$\\int_{}^{}3\\frac{sin(2x)}{2}dx$ = $-\\frac{3}{4}cos(2x)$<br>\n",
    "$\\int_{}^{}3xcos(2x)dx$ = $3x\\frac{sin(2x)}{2} -(-\\frac{3}{4}cos(2x)) + C$ = $3x\\frac{sin(2x)}{2} +\\frac{3}{4}cos(2x)  + C$<br>\n",
    "<br>\n",
    "$\\int_{}^{}3x^2sin(2x)dx$ = $-3x^2\\frac{cos(2x)}{2} + 3x\\frac{sin(2x)}{2} + 3\\frac{cos(2x)}{4} + C$<br>\n",
    "<br>\n",
    "$\\int_{0}^{\\pi}3x^2sin(2x)dx$<br>\n",
    "$F(\\pi)$ = $-3\\frac{\\pi^2}{2} + \\frac{3}{4}$<br>\n",
    "$F(0)$ = $\\frac{3}{4}$<br>\n",
    "$\\int_{0}^{\\pi}3x^2sin(2x)dx$ = $-3\\frac{\\pi^2}{2} + \\frac{3}{4} - \\frac{3}{4}$ = $-3\\frac{\\pi^2}{2}$<br>"
   ]
  },
  {
   "cell_type": "code",
   "execution_count": null,
   "metadata": {},
   "outputs": [],
   "source": []
  },
  {
   "cell_type": "markdown",
   "metadata": {},
   "source": [
    "__Задание 4. Найти неопределенный интеграл:__"
   ]
  },
  {
   "cell_type": "markdown",
   "metadata": {},
   "source": [
    "$$\\int \\frac{1}{\\sqrt{x+1}} dx = $$"
   ]
  },
  {
   "cell_type": "markdown",
   "metadata": {},
   "source": [
    "$u$ = $x+1$ $\\Rightarrow$ $dx$ = $du$\n",
    "$\\int_{}^{}\\frac{1}{\\sqrt{x+1}}dx$ = $\\int_{}^{}\\frac{1}{\\sqrt{u}}du$<br>\n",
    "$\\int{}^{}u^ndu$ = $\\frac{u^{n+1}}{n+1}$<br>\n",
    "$\\int_{}^{}\\frac{1}{\\sqrt{u}}du$ = $2\\sqrt{u} + С$ = $2\\sqrt{x+1} +С$<br>\n",
    "$\\int_{}^{}\\frac{1}{\\sqrt{x+1}}dx$ =  $2\\sqrt{x+1} + C$<br>"
   ]
  },
  {
   "cell_type": "code",
   "execution_count": null,
   "metadata": {},
   "outputs": [],
   "source": []
  }
 ],
 "metadata": {
  "kernelspec": {
   "display_name": "Python 3",
   "language": "python",
   "name": "python3"
  },
  "language_info": {
   "codemirror_mode": {
    "name": "ipython",
    "version": 3
   },
   "file_extension": ".py",
   "mimetype": "text/x-python",
   "name": "python",
   "nbconvert_exporter": "python",
   "pygments_lexer": "ipython3",
   "version": "3.7.3"
  }
 },
 "nbformat": 4,
 "nbformat_minor": 2
}
